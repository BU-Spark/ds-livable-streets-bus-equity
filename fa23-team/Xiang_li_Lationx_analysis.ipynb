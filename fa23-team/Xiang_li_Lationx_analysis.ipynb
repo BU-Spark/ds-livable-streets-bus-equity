{
 "cells": [
  {
   "cell_type": "code",
   "execution_count": 1,
   "metadata": {},
   "outputs": [],
   "source": [
    "import pandas as pd\n",
    "import numpy as np\n",
    "\n"
   ]
  },
  {
   "cell_type": "code",
   "execution_count": 26,
   "metadata": {},
   "outputs": [],
   "source": [
    "suffk2021=pd.read_csv('data/2021suffolk.csv')\n",
    "suffk2016=pd.read_csv('data/2016suffolk.csv')\n",
    "suffk2011=pd.read_csv('data/2011suffolk.csv')\n",
    "suffk2021.head()\n",
    "latinx2021=pd.read_csv('data/Latinx2021.csv')\n",
    "latinx2016=pd.read_csv('data/Latinx2016.csv')\n",
    "latinx2011=pd.read_csv('data/Latinx2011.csv')"
   ]
  },
  {
   "cell_type": "code",
   "execution_count": 3,
   "metadata": {},
   "outputs": [],
   "source": [
    "Roxbuy_list=['805','806.','804.01','806.01','801','814','803','813','815','904','819','820','821,9803']\n",
    "Mattapan_list=['9811','1011.01','1011.02','1010.01','1010.02','1009']\n",
    "Dorcherter_list=['907','913','912','911','914','909.01','915','910.01','902','918','916','917'\n",
    "                 ,'901','919','920','921.01','924','923','922','1006.01','1001','1005'\n",
    "                 ,'1006.03','1002','1003','1008','1006.01','1007']\n",
    "\n",
    "# select the data which column name contain elements in Roxbuy_list\n",
    "\n",
    "       "
   ]
  },
  {
   "cell_type": "code",
   "execution_count": 20,
   "metadata": {},
   "outputs": [],
   "source": [
    "\n",
    "selected_columns = [col for col in suffk2021.columns if any(item in col for item in Roxbuy_list)]\n",
    "Roxbury_data_2021 = suffk2021[selected_columns]\n",
    "\n",
    "selected_columns2 = [col for col in suffk2021.columns if any(item in col for item in Mattapan_list)]\n",
    "\n",
    "Mattapan_data_2021 = suffk2021[selected_columns2]\n",
    "\n",
    "selected_columns3 = [col for col in suffk2021.columns if any(item in col for item in Dorcherter_list)]\n",
    "\n",
    "Dorcherter_data2021 = suffk2021[selected_columns2]\n",
    "\n",
    "\n",
    "# output the data to csv file\n",
    "Roxbury_data_2021.to_csv('Roxbury_data_2021.csv')\n",
    "Mattapan_data_2021.to_csv('Mattapan_data_2021.csv')\n",
    "Dorcherter_data2021.to_csv('Dorcherter_data2021.csv')"
   ]
  },
  {
   "cell_type": "code",
   "execution_count": 21,
   "metadata": {},
   "outputs": [],
   "source": [
    "# 813 miss here\n",
    "Roxbuy_list=['805','806.','804.01','806.01','801','814','803','815','904','819','820','821,9803']\n",
    "Mattapan_list=['9811','1011.01','1011.02','1010.01','1010.02','1009']\n",
    "Dorcherter_list=['907','913','912','911','914','909.01','915','910.01','902','918','916','917'\n",
    "                 ,'901','919','920','921.01','924','923','922','1006.01','1001','1005'\n",
    "                 ,'1006.03','1002','1003','1008','1006.01','1007']\n",
    "\n",
    "# select the data which column name contain elements in Roxbuy_list\n",
    "\n",
    "       \n",
    "\n",
    "selected_columns = [col for col in suffk2016.columns if any(item in col for item in Roxbuy_list)]\n",
    "Roxbury_data_2016 = suffk2021[selected_columns]\n",
    "\n",
    "selected_columns2 = [col for col in suffk2016.columns if any(item in col for item in Mattapan_list)]\n",
    "\n",
    "Mattapan_data_2016 = suffk2016[selected_columns2]\n",
    "\n",
    "selected_columns3 = [col for col in suffk2016.columns if any(item in col for item in Dorcherter_list)]\n",
    "\n",
    "Dorcherter_data2016 = suffk2016[selected_columns2]\n",
    "\n",
    "\n",
    "# output the data to csv file\n",
    "Roxbury_data_2016.to_csv('Roxbury_data_2016.csv')\n",
    "Mattapan_data_2016.to_csv('Mattapan_data_2016.csv')\n",
    "Dorcherter_data2016.to_csv('Dorcherter_data2016.csv')"
   ]
  },
  {
   "cell_type": "code",
   "execution_count": 22,
   "metadata": {},
   "outputs": [],
   "source": [
    "# 813 missing \n",
    "Roxbuy_list=['805','806.','804.01','806.01','801','814','803','815','904','819','820','821,9803']\n",
    "Mattapan_list=['9811','1011.01','1011.02','1010.01','1010.02','1009']\n",
    "Dorcherter_list=['907','913','912','911','914','909.01','915','910.01','902','918','916','917'\n",
    "                 ,'901','919','920','921.01','924','923','922','1006.01','1001','1005'\n",
    "                 ,'1006.03','1002','1003','1008','1006.01','1007']\n",
    "\n",
    "# select the data which column name contain elements in Roxbuy_list\n",
    "\n",
    "selected_columns = [col for col in suffk2011.columns if any(item in col for item in Roxbuy_list)]\n",
    "Roxbury_data_2011 = suffk2021[selected_columns]\n",
    "\n",
    "selected_columns2 = [col for col in suffk2011.columns if any(item in col for item in Mattapan_list)]\n",
    "\n",
    "Mattapan_data_2011 = suffk2011[selected_columns2]\n",
    "\n",
    "selected_columns3 = [col for col in suffk2011.columns if any(item in col for item in Dorcherter_list)]\n",
    "\n",
    "Dorcherter_data2011 = suffk2011[selected_columns2]\n",
    "\n",
    "\n",
    "# output the data to csv file\n",
    "Roxbury_data_2011.to_csv('Roxbury_data_2011.csv')\n",
    "Mattapan_data_2011.to_csv('Mattapan_data_2011.csv')\n",
    "Dorcherter_data2011.to_csv('Dorcherter_data2011.csv')"
   ]
  },
  {
   "cell_type": "code",
   "execution_count": 6,
   "metadata": {},
   "outputs": [],
   "source": [
    "Roxbuy_list=['805','806.','804.01','806.01','801','814','803','813','815','904','819','820','821,9803']\n",
    "Mattapan_list=['9811','1011.01','1011.02','1010.01','1010.02','1009']\n",
    "Dorcherter_list=['907','913','912','911','914','909.01','915','910.01','902','918','916','917'\n",
    "                 ,'901','919','920','921.01','924','923','922','1006.01','1001','1005'\n",
    "                 ,'1006.03','1002','1003','1008','1006.01','1007']\n",
    "\n",
    "selected_columns = [col for col in latinx2021.columns if any(item in col for item in Roxbuy_list)]\n",
    "Roxbury_lat_data_2021 = latinx2021[selected_columns]\n",
    "\n",
    "selected_columns2 = [col for col in latinx2021.columns if any(item in col for item in Mattapan_list)]\n",
    "\n",
    "Mattapan_lat_data_2021 = latinx2021[selected_columns2]\n",
    "\n",
    "selected_columns3 = [col for col in latinx2021.columns if any(item in col for item in Dorcherter_list)]\n",
    "\n",
    "Dorcherter_lat_data2021 = latinx2021[selected_columns2]\n"
   ]
  },
  {
   "cell_type": "code",
   "execution_count": 14,
   "metadata": {},
   "outputs": [],
   "source": [
    "# find the columns that contain Elements in Roxbury_lat_data_2021\n",
    "\n",
    "\n",
    "estimate_columns_rox_lat = [col for col in Roxbury_lat_data_2021.columns if \"Estimate\" in col]\n",
    "sum2021_rox_lat=0\n",
    "for i in estimate_columns_rox_lat:\n",
    "    sum2021_rox_lat=sum2021_rox_lat+Roxbury_lat_data_2021[i][3]\n",
    "\n",
    "estimate_columns_mat_lat = [col for col in Mattapan_lat_data_2021.columns if \"Estimate\" in col]\n",
    "sum2021_mat_lat=0\n",
    "for i in estimate_columns_mat_lat:\n",
    "    sum2021_mat_lat=sum2021_mat_lat+Mattapan_lat_data_2021[i][3]\n",
    "\n",
    "estimate_columns_dor_lat = [col for col in Dorcherter_lat_data2021.columns if \"Estimate\" in col]\n",
    "sum2021_dor_lat=0\n",
    "\n",
    "for i in estimate_columns_dor_lat:\n",
    "    sum2021_dor_lat=sum2021_dor_lat+Dorcherter_lat_data2021[i][3]\n",
    "\n"
   ]
  },
  {
   "cell_type": "code",
   "execution_count": 15,
   "metadata": {},
   "outputs": [],
   "source": [
    "Roxbuy_list=['805','806.','804.01','806.01','801','814','803','813','815','904','819','820','821,9803']\n",
    "Mattapan_list=['9811','1011.01','1011.02','1010.01','1010.02','1009']\n",
    "Dorcherter_list=['907','913','912','911','914','909.01','915','910.01','902','918','916','917'\n",
    "                 ,'901','919','920','921.01','924','923','922','1006.01','1001','1005'\n",
    "                 ,'1006.03','1002','1003','1008','1006.01','1007']\n",
    "\n",
    "selected_columns = [col for col in latinx2016.columns if any(item in col for item in Roxbuy_list)]\n",
    "Roxbury_lat_data_2016 = latinx2016[selected_columns]\n",
    "\n",
    "selected_columns2 = [col for col in latinx2016.columns if any(item in col for item in Mattapan_list)]\n",
    "\n",
    "Mattapan_lat_data_2016 = latinx2016[selected_columns2]\n",
    "\n",
    "selected_columns3 = [col for col in latinx2016.columns if any(item in col for item in Dorcherter_list)]\n",
    "\n",
    "Dorcherter_lat_data2016 = latinx2016[selected_columns2]"
   ]
  },
  {
   "cell_type": "code",
   "execution_count": 16,
   "metadata": {},
   "outputs": [],
   "source": [
    "\n",
    "estimate_columns_rox_lat = [col for col in Roxbury_lat_data_2016.columns if \"Estimate\" in col]\n",
    "sum2016_rox_lat=0\n",
    "for i in estimate_columns_rox_lat:\n",
    "    sum2016_rox_lat=sum2021_rox_lat+Roxbury_lat_data_2016[i][3]\n",
    "\n",
    "estimate_columns_mat_lat = [col for col in Mattapan_lat_data_2016.columns if \"Estimate\" in col]\n",
    "sum2016_mat_lat=0\n",
    "for i in estimate_columns_mat_lat:\n",
    "    sum2016_mat_lat=sum2016_mat_lat+Mattapan_lat_data_2016[i][3]\n",
    "\n",
    "estimate_columns_dor_lat = [col for col in Dorcherter_lat_data2016.columns if \"Estimate\" in col]\n",
    "sum2016_dor_lat=0\n",
    "\n",
    "for i in estimate_columns_dor_lat:\n",
    "    sum2016_dor_lat=sum2016_dor_lat+Dorcherter_lat_data2016[i][3]"
   ]
  },
  {
   "cell_type": "code",
   "execution_count": 17,
   "metadata": {},
   "outputs": [],
   "source": [
    "Roxbuy_list=['805','806.','804.01','806.01','801','814','803','813','815','904','819','820','821,9803']\n",
    "Mattapan_list=['9811','1011.01','1011.02','1010.01','1010.02','1009']\n",
    "Dorcherter_list=['907','913','912','911','914','909.01','915','910.01','902','918','916','917'\n",
    "                 ,'901','919','920','921.01','924','923','922','1006.01','1001','1005'\n",
    "                 ,'1006.03','1002','1003','1008','1006.01','1007']\n",
    "\n",
    "selected_columns = [col for col in latinx2011.columns if any(item in col for item in Roxbuy_list)]\n",
    "Roxbury_lat_data_2011 = latinx2011[selected_columns]\n",
    "\n",
    "selected_columns2 = [col for col in latinx2011.columns if any(item in col for item in Mattapan_list)]\n",
    "\n",
    "Mattapan_lat_data_2011 = latinx2011[selected_columns2]\n",
    "\n",
    "selected_columns3 = [col for col in latinx2011.columns if any(item in col for item in Dorcherter_list)]\n",
    "\n",
    "Dorcherter_lat_data2011 = latinx2011[selected_columns2]"
   ]
  },
  {
   "cell_type": "code",
   "execution_count": 18,
   "metadata": {},
   "outputs": [],
   "source": [
    "\n",
    "estimate_columns_rox_lat = [col for col in Roxbury_lat_data_2011.columns if \"Estimate\" in col]\n",
    "sum2011_rox_lat=0\n",
    "for i in estimate_columns_rox_lat:\n",
    "    sum2011_rox_lat=sum2021_rox_lat+Roxbury_lat_data_2011[i][3]\n",
    "\n",
    "estimate_columns_mat_lat = [col for col in Mattapan_lat_data_2011.columns if \"Estimate\" in col]\n",
    "sum2011_mat_lat=0\n",
    "for i in estimate_columns_mat_lat:\n",
    "    sum2011_mat_lat=sum2011_mat_lat+Mattapan_lat_data_2011[i][3]\n",
    "\n",
    "estimate_columns_dor_lat = [col for col in Dorcherter_lat_data2011.columns if \"Estimate\" in col]\n",
    "sum2011_dor_lat=0\n",
    "\n",
    "for i in estimate_columns_dor_lat:\n",
    "    sum2011_dor_lat=sum2011_dor_lat+Dorcherter_lat_data2011[i][3]"
   ]
  },
  {
   "cell_type": "code",
   "execution_count": 22,
   "metadata": {},
   "outputs": [
    {
     "data": {
      "image/png": "[encoded data removed]",
      "text/plain": [
       "<Figure size 432x288 with 1 Axes>"
      ]
     },
     "metadata": {},
     "output_type": "display_data"
    }
   ],
   "source": [
    "total_2021=[sum2021_rox_lat,sum2021_mat_lat,sum2021_dor_lat]\n",
    "city_2021=['Roxbury','Mattapan','Dorchester']\n",
    "total_2016=[sum2016_rox_lat,sum2016_mat_lat,sum2016_dor_lat]\n",
    "city_2016=['Roxbury','Mattapan','Dorchester']\n",
    "total_2011=[sum2011_rox_lat,sum2011_mat_lat,sum2011_dor_lat]\n",
    "city_2011=['Roxbury','Mattapan','Dorchester']\n",
    "\n",
    "import matplotlib.pyplot as plt\n",
    "import numpy as np\n",
    "import pandas as pd\n",
    "import seaborn as sns\n",
    "\n",
    "# plot the bar chart for 2021\n",
    "plt.bar(city_2021,total_2021)\n",
    "plt.title('Latinx Population using public transportation in 2021')\n",
    "plt.xlabel('City')\n",
    "plt.ylabel('Population')\n",
    "plt.show()\n",
    "\n"
   ]
  },
  {
   "cell_type": "code",
   "execution_count": 24,
   "metadata": {},
   "outputs": [
    {
     "data": {
      "image/png": "[encoded data removed]",
      "text/plain": [
       "<Figure size 432x288 with 1 Axes>"
      ]
     },
     "metadata": {},
     "output_type": "display_data"
    }
   ],
   "source": [
    "\n",
    "plt.bar(city_2016,total_2016)\n",
    "plt.title('Latinx Population using public transportation in 2016')\n",
    "plt.xlabel('City')\n",
    "plt.ylabel('Population')\n",
    "plt.show()\n"
   ]
  },
  {
   "cell_type": "code",
   "execution_count": 25,
   "metadata": {},
   "outputs": [
    {
     "data": {
      "image/png": "[encoded data removed]",
      "text/plain": [
       "<Figure size 432x288 with 1 Axes>"
      ]
     },
     "metadata": {},
     "output_type": "display_data"
    }
   ],
   "source": [
    "plt.bar(city_2011,total_2011)\n",
    "plt.title('Latinx Population using public transportation in 2011')\n",
    "plt.xlabel('City')\n",
    "plt.ylabel('Population')\n",
    "plt.show()"
   ]
  },
  {
   "cell_type": "code",
   "execution_count": null,
   "metadata": {},
   "outputs": [],
   "source": []
  }
 ],
 "metadata": {
  "kernelspec": {
   "display_name": "base",
   "language": "python",
   "name": "python3"
  },
  "language_info": {
   "codemirror_mode": {
    "name": "ipython",
    "version": 3
   },
   "file_extension": ".py",
   "mimetype": "text/x-python",
   "name": "python",
   "nbconvert_exporter": "python",
   "pygments_lexer": "ipython3",
   "version": "3.8.3"
  },
  "orig_nbformat": 4
 },
 "nbformat": 4,
 "nbformat_minor": 2
}
